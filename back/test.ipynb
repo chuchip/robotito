{
 "cells": [
  {
   "cell_type": "code",
   "execution_count": 2,
   "metadata": {},
   "outputs": [
    {
     "data": {
      "text/plain": [
       "ChatPromptValue(messages=[SystemMessage(content='You are a helpful assistant', additional_kwargs={}, response_metadata={}), HumanMessage(content='Tell me a joke about cats', additional_kwargs={}, response_metadata={})])"
      ]
     },
     "execution_count": 2,
     "metadata": {},
     "output_type": "execute_result"
    }
   ],
   "source": [
    "from langchain_core.prompts import ChatPromptTemplate\r\n",
    "\r\n",
    "prompt_template = ChatPromptTemplate([\r\n",
    "    (\"system\", \"You are a helpful assistant\"),\r\n",
    "    (\"user\", \"Tell me a joke about {topic}\")\r\n",
    "])\r\n",
    "\r\n",
    "prompt_template.invoke({\"topic\": \"cats\"})"
   ]
  },
  {
   "cell_type": "code",
   "execution_count": 17,
   "metadata": {},
   "outputs": [],
   "source": [
    "from langchain_core.prompts import ChatPromptTemplate, MessagesPlaceholder\r\n",
    "from langchain_core.messages import HumanMessage,SystemMessage\r\n",
    "\r\n",
    "prompt_template = ChatPromptTemplate([\r\n",
    "    (\"system\", \"Tell me the answer in Spanish\"),\r\n",
    "    MessagesPlaceholder(\"msgs\")\r\n",
    "])\r\n",
    "\r\n",
    "prompt = prompt_template.invoke({\"msgs\": [SystemMessage(content=\"The ouput must be between 7 and 10 words!\"),HumanMessage(content=\"What is the color of the sea?\")]})"
   ]
  },
  {
   "cell_type": "code",
   "execution_count": 18,
   "metadata": {},
   "outputs": [
    {
     "data": {
      "text/plain": [
       "AIMessage(content='El color del mar es azul y verde.', additional_kwargs={'refusal': None}, response_metadata={'token_usage': {'completion_tokens': 11, 'prompt_tokens': 42, 'total_tokens': 53, 'completion_tokens_details': {'accepted_prediction_tokens': 0, 'audio_tokens': 0, 'reasoning_tokens': 0, 'rejected_prediction_tokens': 0}, 'prompt_tokens_details': {'audio_tokens': 0, 'cached_tokens': 0}}, 'model_name': 'gpt-3.5-turbo-0125', 'system_fingerprint': None, 'finish_reason': 'stop', 'logprobs': None}, id='run-210d0aae-6b2c-4cbb-85d4-4b5e3536e0cf-0', usage_metadata={'input_tokens': 42, 'output_tokens': 11, 'total_tokens': 53, 'input_token_details': {'audio': 0, 'cache_read': 0}, 'output_token_details': {'audio': 0, 'reasoning': 0}})"
      ]
     },
     "execution_count": 18,
     "metadata": {},
     "output_type": "execute_result"
    }
   ],
   "source": [
    "from langchain_openai import ChatOpenAI\r\n",
    "model = ChatOpenAI(temperature=0)\r\n",
    "model.invoke(prompt)"
   ]
  }
 ],
 "metadata": {
  "kernelspec": {
   "display_name": "robotito",
   "language": "python",
   "name": "python3"
  },
  "language_info": {
   "codemirror_mode": {
    "name": "ipython",
    "version": 3
   },
   "file_extension": ".py",
   "mimetype": "text/x-python",
   "name": "python",
   "nbconvert_exporter": "python",
   "pygments_lexer": "ipython3",
   "version": "3.11.11"
  }
 },
 "nbformat": 4,
 "nbformat_minor": 2
}
